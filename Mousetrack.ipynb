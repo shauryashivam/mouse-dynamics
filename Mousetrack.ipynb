{
  "nbformat": 4,
  "nbformat_minor": 0,
  "metadata": {
    "kernelspec": {
      "name": "python3",
      "display_name": "Python 3"
    },
    "language_info": {
      "codemirror_mode": {
        "name": "ipython",
        "version": 3
      },
      "file_extension": ".py",
      "mimetype": "text/x-python",
      "name": "python",
      "nbconvert_exporter": "python",
      "pygments_lexer": "ipython3",
      "version": "3.6.6"
    },
    "colab": {
      "name": "Mousetrack.ipynb",
      "provenance": [],
      "collapsed_sections": []
    },
    "accelerator": "GPU"
  },
  "cells": [
    {
      "cell_type": "code",
      "metadata": {
        "_cell_guid": "b1076dfc-b9ad-4769-8c92-a6c4dae69d19",
        "_uuid": "8f2839f25d086af736a60e9eeb907d3b93b6e0e5",
        "id": "o-QNwa8gdgYf",
        "colab": {
          "base_uri": "https://localhost:8080/"
        },
        "outputId": "d18a5371-19c2-4055-ce27-3363a2622ab6"
      },
      "source": [
        "import numpy as np\n",
        "import pandas as pd\n",
        "import matplotlib.pyplot as plt\n",
        "%matplotlib inline\n",
        "import os\n",
        "from google.colab import drive\n",
        "drive.mount('/content/drive')"
      ],
      "execution_count": null,
      "outputs": [
        {
          "output_type": "stream",
          "text": [
            "Mounted at /content/drive\n"
          ],
          "name": "stdout"
        }
      ]
    },
    {
      "cell_type": "code",
      "metadata": {
        "id": "2y37ADt_fWEl"
      },
      "source": [
        "from zipfile import ZipFile\n",
        "with ZipFile('/content/drive/My Drive/Colab Notebooks/mouse_dynamics/user12/test.zip', 'r') as zipObj:\n",
        "       zipObj.extractall('/content/drive/My Drive/Colab Notebooks/mouse_dynamics/user12/test')"
      ],
      "execution_count": null,
      "outputs": []
    },
    {
      "cell_type": "code",
      "metadata": {
        "id": "CYR7rzApPMdA"
      },
      "source": [
        "from zipfile import ZipFile\n",
        "with ZipFile('/content/drive/My Drive/Colab Notebooks/mouse_dynamics/user12/train.zip', 'r') as zipObj:\n",
        "       zipObj.extractall('/content/drive/My Drive/Colab Notebooks/mouse_dynamics/user12/train')"
      ],
      "execution_count": null,
      "outputs": []
    },
    {
      "cell_type": "code",
      "metadata": {
        "id": "YUwMw1txdgYk"
      },
      "source": [
        "train_dir = '/content/drive/My Drive/Colab Notebooks/mouse_dynamics/user12/train/train'\n",
        "val_dir = '/content/drive/My Drive/Colab Notebooks/mouse_dynamics/user12/test/test'"
      ],
      "execution_count": null,
      "outputs": []
    },
    {
      "cell_type": "code",
      "metadata": {
        "id": "tsiJ4wXzdgYr"
      },
      "source": [
        "import torch\n",
        "import numpy as np\n",
        "import torchvision\n",
        "import matplotlib.pyplot as plt\n",
        "import time\n",
        "import copy\n",
        "\n",
        "from torchvision import transforms, models\n",
        "train_transforms = transforms.Compose([\n",
        "    transforms.RandomHorizontalFlip(),\n",
        "    transforms.ToTensor(),\n",
        "    transforms.Normalize([0.485, 0.456, 0.406], [0.229, 0.224, 0.225])\n",
        "])\n",
        "\n",
        "val_transforms = transforms.Compose([\n",
        "    transforms.Resize((224, 224)),\n",
        "    transforms.ToTensor(),\n",
        "    transforms.Normalize([0.485, 0.456, 0.406], [0.229, 0.224, 0.225])\n",
        "])\n",
        "\n",
        "train_dataset = torchvision.datasets.ImageFolder(train_dir, train_transforms)\n",
        "val_dataset = torchvision.datasets.ImageFolder(val_dir, val_transforms)\n",
        "\n",
        "batch_size = 8\n",
        "train_dataloader = torch.utils.data.DataLoader(\n",
        "    train_dataset, batch_size=batch_size, shuffle=True, num_workers=batch_size)\n",
        "val_dataloader = torch.utils.data.DataLoader(\n",
        "    val_dataset, batch_size=batch_size, shuffle=False, num_workers=batch_size)"
      ],
      "execution_count": null,
      "outputs": []
    },
    {
      "cell_type": "code",
      "metadata": {
        "id": "2ur-5-GQdgYt",
        "colab": {
          "base_uri": "https://localhost:8080/",
          "height": 34
        },
        "outputId": "c6e5a8b5-0f9d-4e70-96f1-b5a1a418dcb7"
      },
      "source": [
        "len(train_dataloader), len(train_dataset)"
      ],
      "execution_count": null,
      "outputs": [
        {
          "output_type": "execute_result",
          "data": {
            "text/plain": [
              "(1601, 12807)"
            ]
          },
          "metadata": {
            "tags": []
          },
          "execution_count": 9
        }
      ]
    },
    {
      "cell_type": "code",
      "metadata": {
        "id": "HCu7I4UudgYv",
        "colab": {
          "base_uri": "https://localhost:8080/",
          "height": 286
        },
        "outputId": "56be0e74-5fae-49ee-f0e6-38b40d518dbc"
      },
      "source": [
        "X_batch, y_batch = next(iter(train_dataloader))\n",
        "mean = np.array([0.485, 0.456, 0.406])\n",
        "std = np.array([0.229, 0.224, 0.225])\n",
        "plt.imshow(X_batch[0].permute(1, 2, 0).numpy() * std + mean);"
      ],
      "execution_count": null,
      "outputs": [
        {
          "output_type": "stream",
          "text": [
            "Clipping input data to the valid range for imshow with RGB data ([0..1] for floats or [0..255] for integers).\n"
          ],
          "name": "stderr"
        },
        {
          "output_type": "display_data",
          "data": {
            "image/png": "[encoded data removed]",
            "text/plain": [
              "<Figure size 432x288 with 1 Axes>"
            ]
          },
          "metadata": {
            "tags": []
          }
        }
      ]
    },
    {
      "cell_type": "code",
      "metadata": {
        "id": "sdEBB9G4dgYx",
        "colab": {
          "base_uri": "https://localhost:8080/",
          "height": 1000
        },
        "outputId": "fde2b571-e8f1-4734-af24-956039fb30a2"
      },
      "source": [
        "def show_input(input_tensor, title=''):\n",
        "    image = input_tensor.permute(1, 2, 0).numpy()\n",
        "    image = std * image + mean\n",
        "    plt.imshow(image.clip(0, 1))\n",
        "    plt.title(title)\n",
        "    plt.show()\n",
        "    plt.pause(0.001)\n",
        "\n",
        "class_names = ['legal', 'illegal']\n",
        "X_batch, y_batch = next(iter(train_dataloader))\n",
        "\n",
        "for x_item, y_item in zip(X_batch, y_batch):\n",
        "    show_input(x_item, title=class_names[y_item])"
      ],
      "execution_count": null,
      "outputs": [
        {
          "output_type": "display_data",
          "data": {
            "image/png": "[encoded data removed]",
            "text/plain": [
              "<Figure size 432x288 with 1 Axes>"
            ]
          },
          "metadata": {
            "tags": []
          }
        },
        {
          "output_type": "display_data",
          "data": {
            "image/png": "[encoded data removed]",
            "text/plain": [
              "<Figure size 432x288 with 1 Axes>"
            ]
          },
          "metadata": {
            "tags": []
          }
        },
        {
          "output_type": "display_data",
          "data": {
            "image/png": "[encoded data removed]",
            "text/plain": [
              "<Figure size 432x288 with 1 Axes>"
            ]
          },
          "metadata": {
            "tags": []
          }
        },
        {
          "output_type": "display_data",
          "data": {
            "image/png": "[encoded data removed]",
            "text/plain": [
              "<Figure size 432x288 with 1 Axes>"
            ]
          },
          "metadata": {
            "tags": []
          }
        },
        {
          "output_type": "display_data",
          "data": {
            "image/png": "[encoded data removed]",
            "text/plain": [
              "<Figure size 432x288 with 1 Axes>"
            ]
          },
          "metadata": {
            "tags": []
          }
        },
        {
          "output_type": "display_data",
          "data": {
            "image/png": "[encoded data removed]",
            "text/plain": [
              "<Figure size 432x288 with 1 Axes>"
            ]
          },
          "metadata": {
            "tags": []
          }
        },
        {
          "output_type": "display_data",
          "data": {
            "image/png": "[encoded data removed]",
            "text/plain": [
              "<Figure size 432x288 with 1 Axes>"
            ]
          },
          "metadata": {
            "tags": []
          }
        },
        {
          "output_type": "display_data",
          "data": {
            "image/png": "[encoded data removed]",
            "text/plain": [
              "<Figure size 432x288 with 1 Axes>"
            ]
          },
          "metadata": {
            "tags": []
          }
        }
      ]
    },
    {
      "cell_type": "code",
      "metadata": {
        "id": "O2a_oSLQdgYz"
      },
      "source": [
        "def train_model(model, loss, optimizer, scheduler, num_epochs):\n",
        "    for epoch in range(num_epochs):\n",
        "        print('Epoch {}/{}:'.format(epoch, num_epochs - 1), flush=True)\n",
        "\n",
        "        # Each epoch has a training and validation phase\n",
        "        for phase in ['train', 'val']:\n",
        "            if phase == 'train':\n",
        "                dataloader = train_dataloader\n",
        "                scheduler.step()\n",
        "                model.train()  # Set model to training mode\n",
        "            else:\n",
        "                dataloader = val_dataloader\n",
        "                model.eval()   # Set model to evaluate mode\n",
        "\n",
        "            running_loss = 0.\n",
        "            running_acc = 0.\n",
        "\n",
        "            # Iterate over data.\n",
        "            for inputs, labels in tqdm(dataloader):\n",
        "                inputs = inputs.to(device)\n",
        "                labels = labels.to(device)\n",
        "\n",
        "                optimizer.zero_grad()\n",
        "\n",
        "                # forward and backward\n",
        "                with torch.set_grad_enabled(phase == 'train'):\n",
        "                    preds = model(inputs)\n",
        "                    loss_value = loss(preds, labels)\n",
        "                    preds_class = preds.argmax(dim=1)\n",
        "\n",
        "                    # backward + optimize only if in training phase\n",
        "                    if phase == 'train':\n",
        "                        loss_value.backward()\n",
        "                        optimizer.step()\n",
        "\n",
        "                # statistics\n",
        "                running_loss += loss_value.item()\n",
        "                running_acc += (preds_class == labels.data).float().mean()\n",
        "\n",
        "            epoch_loss = running_loss / len(dataloader)\n",
        "            epoch_acc = running_acc / len(dataloader)\n",
        "\n",
        "            print('{} Loss: {:.4f} Acc: {:.4f}'.format(phase, epoch_loss, epoch_acc), flush=True)\n",
        "\n",
        "    return model"
      ],
      "execution_count": null,
      "outputs": []
    },
    {
      "cell_type": "code",
      "metadata": {
        "id": "Ma7_PGEKdgY1",
        "colab": {
          "base_uri": "https://localhost:8080/",
          "height": 51
        },
        "outputId": "879b8079-a97e-4cef-def6-9fd9c76b3677"
      },
      "source": [
        "model = models.resnet18(pretrained=True)\n",
        "\n",
        "# Disable grad for all conv layers\n",
        "for param in model.parameters():\n",
        "    param.requires_grad = False\n",
        "\n",
        "model.fc = torch.nn.Linear(model.fc.in_features, 2)\n",
        "\n",
        "device = torch.device(\"cuda:0\" if torch.cuda.is_available() else \"cpu\")\n",
        "model = model.to(device)\n",
        "\n",
        "loss = torch.nn.CrossEntropyLoss()\n",
        "optimizer = torch.optim.Adam(model.parameters(), lr=1.0e-3)\n",
        "\n",
        "# Decay LR by a factor of 0.1 every 7 epochs\n",
        "scheduler = torch.optim.lr_scheduler.StepLR(optimizer, step_size=7, gamma=0.1)"
      ],
      "execution_count": null,
      "outputs": [
        {
          "output_type": "stream",
          "text": [
            "Downloading: \"https://download.pytorch.org/models/resnet18-5c106cde.pth\" to /root/.cache/torch/checkpoints/resnet18-5c106cde.pth\n",
            "100%|██████████| 44.7M/44.7M [00:02<00:00, 17.7MB/s]\n"
          ],
          "name": "stderr"
        }
      ]
    },
    {
      "cell_type": "code",
      "metadata": {
        "id": "WaK4fIgWdgY3",
        "colab": {
          "base_uri": "https://localhost:8080/",
          "height": 921
        },
        "outputId": "9ae300db-a84e-464e-d64f-e5683a42c09a"
      },
      "source": [
        "from tqdm import tqdm\n",
        "train_model(model, loss, optimizer, scheduler, num_epochs=10);"
      ],
      "execution_count": null,
      "outputs": [
        {
          "output_type": "stream",
          "text": [
            "Epoch 0/9:\n"
          ],
          "name": "stdout"
        },
        {
          "output_type": "stream",
          "text": [
            "/usr/local/lib/python3.6/dist-packages/torch/optim/lr_scheduler.py:100: UserWarning: Detected call of `lr_scheduler.step()` before `optimizer.step()`. In PyTorch 1.1.0 and later, you should call them in the opposite order: `optimizer.step()` before `lr_scheduler.step()`.  Failure to do this will result in PyTorch skipping the first value of the learning rate schedule.See more details at https://pytorch.org/docs/stable/optim.html#how-to-adjust-learning-rate\n",
            "  \"https://pytorch.org/docs/stable/optim.html#how-to-adjust-learning-rate\", UserWarning)\n",
            "100%|██████████| 1601/1601 [01:13<00:00, 21.82it/s]"
          ],
          "name": "stderr"
        },
        {
          "output_type": "stream",
          "text": [
            "train Loss: 0.4016 Acc: 0.8245\n"
          ],
          "name": "stdout"
        },
        {
          "output_type": "stream",
          "text": [
            "\n",
            "100%|██████████| 376/376 [00:16<00:00, 23.30it/s]"
          ],
          "name": "stderr"
        },
        {
          "output_type": "stream",
          "text": [
            "val Loss: 0.4446 Acc: 0.7986\n",
            "Epoch 1/9:\n"
          ],
          "name": "stdout"
        },
        {
          "output_type": "stream",
          "text": [
            "\n",
            "100%|██████████| 1601/1601 [01:13<00:00, 21.70it/s]"
          ],
          "name": "stderr"
        },
        {
          "output_type": "stream",
          "text": [
            "train Loss: 0.3894 Acc: 0.8335\n"
          ],
          "name": "stdout"
        },
        {
          "output_type": "stream",
          "text": [
            "\n",
            "100%|██████████| 376/376 [00:16<00:00, 22.94it/s]"
          ],
          "name": "stderr"
        },
        {
          "output_type": "stream",
          "text": [
            "val Loss: 0.4740 Acc: 0.7933\n",
            "Epoch 2/9:\n"
          ],
          "name": "stdout"
        },
        {
          "output_type": "stream",
          "text": [
            "\n",
            "100%|██████████| 1601/1601 [01:14<00:00, 24.33it/s]"
          ],
          "name": "stderr"
        },
        {
          "output_type": "stream",
          "text": [
            "train Loss: 0.3813 Acc: 0.8360\n"
          ],
          "name": "stdout"
        },
        {
          "output_type": "stream",
          "text": [
            "\n",
            "100%|██████████| 376/376 [00:16<00:00, 22.86it/s]"
          ],
          "name": "stderr"
        },
        {
          "output_type": "stream",
          "text": [
            "val Loss: 0.4884 Acc: 0.7930\n",
            "Epoch 3/9:\n"
          ],
          "name": "stdout"
        },
        {
          "output_type": "stream",
          "text": [
            "\n",
            "100%|██████████| 1601/1601 [01:14<00:00, 25.13it/s]"
          ],
          "name": "stderr"
        },
        {
          "output_type": "stream",
          "text": [
            "train Loss: 0.3814 Acc: 0.8375\n"
          ],
          "name": "stdout"
        },
        {
          "output_type": "stream",
          "text": [
            "\n",
            "100%|██████████| 376/376 [00:16<00:00, 23.19it/s]"
          ],
          "name": "stderr"
        },
        {
          "output_type": "stream",
          "text": [
            "val Loss: 0.4350 Acc: 0.8038\n",
            "Epoch 4/9:\n"
          ],
          "name": "stdout"
        },
        {
          "output_type": "stream",
          "text": [
            "\n",
            "100%|██████████| 1601/1601 [01:11<00:00, 25.93it/s]"
          ],
          "name": "stderr"
        },
        {
          "output_type": "stream",
          "text": [
            "train Loss: 0.3797 Acc: 0.8392\n"
          ],
          "name": "stdout"
        },
        {
          "output_type": "stream",
          "text": [
            "\n",
            "100%|██████████| 376/376 [00:16<00:00, 23.08it/s]"
          ],
          "name": "stderr"
        },
        {
          "output_type": "stream",
          "text": [
            "val Loss: 0.4462 Acc: 0.8013\n",
            "Epoch 5/9:\n"
          ],
          "name": "stdout"
        },
        {
          "output_type": "stream",
          "text": [
            "\n",
            "100%|██████████| 1601/1601 [01:11<00:00, 25.82it/s]"
          ],
          "name": "stderr"
        },
        {
          "output_type": "stream",
          "text": [
            "train Loss: 0.3781 Acc: 0.8391\n"
          ],
          "name": "stdout"
        },
        {
          "output_type": "stream",
          "text": [
            "\n",
            "100%|██████████| 376/376 [00:16<00:00, 22.83it/s]"
          ],
          "name": "stderr"
        },
        {
          "output_type": "stream",
          "text": [
            "val Loss: 0.4343 Acc: 0.8015\n",
            "Epoch 6/9:\n"
          ],
          "name": "stdout"
        },
        {
          "output_type": "stream",
          "text": [
            "\n",
            "100%|██████████| 1601/1601 [01:11<00:00, 22.32it/s]"
          ],
          "name": "stderr"
        },
        {
          "output_type": "stream",
          "text": [
            "train Loss: 0.3523 Acc: 0.8487\n"
          ],
          "name": "stdout"
        },
        {
          "output_type": "stream",
          "text": [
            "\n",
            "100%|██████████| 376/376 [00:16<00:00, 22.94it/s]"
          ],
          "name": "stderr"
        },
        {
          "output_type": "stream",
          "text": [
            "val Loss: 0.4262 Acc: 0.8061\n",
            "Epoch 7/9:\n"
          ],
          "name": "stdout"
        },
        {
          "output_type": "stream",
          "text": [
            "\n",
            "100%|██████████| 1601/1601 [01:12<00:00, 21.96it/s]"
          ],
          "name": "stderr"
        },
        {
          "output_type": "stream",
          "text": [
            "train Loss: 0.3557 Acc: 0.8514\n"
          ],
          "name": "stdout"
        },
        {
          "output_type": "stream",
          "text": [
            "\n",
            "100%|██████████| 376/376 [00:16<00:00, 22.77it/s]"
          ],
          "name": "stderr"
        },
        {
          "output_type": "stream",
          "text": [
            "val Loss: 0.4286 Acc: 0.8061\n",
            "Epoch 8/9:\n"
          ],
          "name": "stdout"
        },
        {
          "output_type": "stream",
          "text": [
            "\n",
            "100%|██████████| 1601/1601 [01:11<00:00, 22.24it/s]"
          ],
          "name": "stderr"
        },
        {
          "output_type": "stream",
          "text": [
            "train Loss: 0.3497 Acc: 0.8488\n"
          ],
          "name": "stdout"
        },
        {
          "output_type": "stream",
          "text": [
            "\n",
            "100%|██████████| 376/376 [00:16<00:00, 22.28it/s]"
          ],
          "name": "stderr"
        },
        {
          "output_type": "stream",
          "text": [
            "val Loss: 0.4272 Acc: 0.8041\n",
            "Epoch 9/9:\n"
          ],
          "name": "stdout"
        },
        {
          "output_type": "stream",
          "text": [
            "\n",
            "100%|██████████| 1601/1601 [01:12<00:00, 25.40it/s]"
          ],
          "name": "stderr"
        },
        {
          "output_type": "stream",
          "text": [
            "train Loss: 0.3528 Acc: 0.8469\n"
          ],
          "name": "stdout"
        },
        {
          "output_type": "stream",
          "text": [
            "\n",
            "100%|██████████| 376/376 [00:16<00:00, 23.41it/s]"
          ],
          "name": "stderr"
        },
        {
          "output_type": "stream",
          "text": [
            "val Loss: 0.4335 Acc: 0.8005\n"
          ],
          "name": "stdout"
        },
        {
          "output_type": "stream",
          "text": [
            "\n"
          ],
          "name": "stderr"
        }
      ]
    },
    {
      "cell_type": "code",
      "metadata": {
        "id": "_P12BpCkdgY5"
      },
      "source": [
        "test_dir = '/content/drive/My Drive/Colab Notebooks/mouse_dynamics/user12/test/test'\n",
        "#shutil.copytree(os.path.join(data_root, 'test'), os.path.join(test_dir, 'unknown'))"
      ],
      "execution_count": null,
      "outputs": []
    },
    {
      "cell_type": "code",
      "metadata": {
        "id": "3kpSeUdhdgY7"
      },
      "source": [
        "class ImageFolderWithPaths(torchvision.datasets.ImageFolder):\n",
        "    def __getitem__(self, index):\n",
        "        original_tuple = super(ImageFolderWithPaths, self).__getitem__(index)\n",
        "        path = self.imgs[index][0]\n",
        "        tuple_with_path = (original_tuple + (path,))\n",
        "        return tuple_with_path\n",
        "    \n",
        "test_dataset = ImageFolderWithPaths(test_dir, val_transforms)\n",
        "\n",
        "test_dataloader = torch.utils.data.DataLoader(\n",
        "    test_dataset, batch_size=batch_size, shuffle=False, num_workers=batch_size)"
      ],
      "execution_count": null,
      "outputs": []
    },
    {
      "cell_type": "code",
      "metadata": {
        "id": "jz98ZXgVdgY9",
        "colab": {
          "base_uri": "https://localhost:8080/",
          "height": 34
        },
        "outputId": "c5f14b78-0e8e-4069-a0af-45865b1ddbc8"
      },
      "source": [
        "model.eval()\n",
        "\n",
        "test_predictions = []\n",
        "test_img_paths = []\n",
        "for inputs, labels, paths in tqdm(test_dataloader):\n",
        "    inputs = inputs.to(device)\n",
        "    labels = labels.to(device)\n",
        "    with torch.set_grad_enabled(False):\n",
        "        preds = model(inputs)\n",
        "    test_predictions.append(\n",
        "        torch.nn.functional.softmax(preds, dim=1)[:,1].data.cpu().numpy())\n",
        "    test_img_paths.extend(paths)\n",
        "    \n",
        "test_predictions = np.concatenate(test_predictions)"
      ],
      "execution_count": null,
      "outputs": [
        {
          "output_type": "stream",
          "text": [
            "100%|██████████| 376/376 [00:16<00:00, 22.93it/s]\n"
          ],
          "name": "stderr"
        }
      ]
    },
    {
      "cell_type": "code",
      "metadata": {
        "id": "oYDXGEKIdgY_"
      },
      "source": [
        "inputs, labels, paths = next(iter(test_dataloader))\n",
        "\n",
        "#for img, pred in zip(inputs, test_predictions):\n",
        "#    show_input(img, title=pred)"
      ],
      "execution_count": null,
      "outputs": []
    },
    {
      "cell_type": "code",
      "metadata": {
        "id": "4jYpIVB-dgZB"
      },
      "source": [
        "submission_df = pd.DataFrame.from_dict({'id': test_img_paths, 'label': test_predictions})"
      ],
      "execution_count": null,
      "outputs": []
    },
    {
      "cell_type": "code",
      "metadata": {
        "id": "qPa2_ulFdgZD"
      },
      "source": [
        "#submission_df['label'] = submission_df['label'].map(lambda pred: 'legal' if pred > 0.01 else 'illegal')\n",
        "submission_df['id'] = submission_df['id'].str.replace('/content/drive/My Drive/Colab Notebooks/mouse_dynamics/user12/test/test/', '')\n",
        "submission_df['id'] = submission_df['id'].str.replace('.png', '')\n",
        "submission_df.set_index('id', inplace=True)"
      ],
      "execution_count": null,
      "outputs": []
    },
    {
      "cell_type": "code",
      "metadata": {
        "id": "eo46E5p-tfRw",
        "colab": {
          "base_uri": "https://localhost:8080/",
          "height": 450
        },
        "outputId": "f89b0811-d22b-4eff-e368-08ac5b561e30"
      },
      "source": [
        "submission_df"
      ],
      "execution_count": null,
      "outputs": [
        {
          "output_type": "execute_result",
          "data": {
            "text/html": [
              "<div>\n",
              "<style scoped>\n",
              "    .dataframe tbody tr th:only-of-type {\n",
              "        vertical-align: middle;\n",
              "    }\n",
              "\n",
              "    .dataframe tbody tr th {\n",
              "        vertical-align: top;\n",
              "    }\n",
              "\n",
              "    .dataframe thead th {\n",
              "        text-align: right;\n",
              "    }\n",
              "</style>\n",
              "<table border=\"1\" class=\"dataframe\">\n",
              "  <thead>\n",
              "    <tr style=\"text-align: right;\">\n",
              "      <th></th>\n",
              "      <th>label</th>\n",
              "    </tr>\n",
              "    <tr>\n",
              "      <th>id</th>\n",
              "      <th></th>\n",
              "    </tr>\n",
              "  </thead>\n",
              "  <tbody>\n",
              "    <tr>\n",
              "      <th>illegal/session_0126772600-x0</th>\n",
              "      <td>0.282513</td>\n",
              "    </tr>\n",
              "    <tr>\n",
              "      <th>illegal/session_0126772600-x1</th>\n",
              "      <td>0.056180</td>\n",
              "    </tr>\n",
              "    <tr>\n",
              "      <th>illegal/session_0126772600-x2</th>\n",
              "      <td>0.006265</td>\n",
              "    </tr>\n",
              "    <tr>\n",
              "      <th>illegal/session_0126772600-x3</th>\n",
              "      <td>0.033991</td>\n",
              "    </tr>\n",
              "    <tr>\n",
              "      <th>illegal/session_0126772600-x4</th>\n",
              "      <td>0.126609</td>\n",
              "    </tr>\n",
              "    <tr>\n",
              "      <th>...</th>\n",
              "      <td>...</td>\n",
              "    </tr>\n",
              "    <tr>\n",
              "      <th>legal/session_9932324920-y6</th>\n",
              "      <td>0.063231</td>\n",
              "    </tr>\n",
              "    <tr>\n",
              "      <th>legal/session_9932324920-y7</th>\n",
              "      <td>0.562928</td>\n",
              "    </tr>\n",
              "    <tr>\n",
              "      <th>legal/session_9932324920-y8</th>\n",
              "      <td>0.040318</td>\n",
              "    </tr>\n",
              "    <tr>\n",
              "      <th>legal/session_9973193301-x0</th>\n",
              "      <td>0.908278</td>\n",
              "    </tr>\n",
              "    <tr>\n",
              "      <th>legal/session_9973193301-y0</th>\n",
              "      <td>0.945931</td>\n",
              "    </tr>\n",
              "  </tbody>\n",
              "</table>\n",
              "<p>3005 rows × 1 columns</p>\n",
              "</div>"
            ],
            "text/plain": [
              "                                  label\n",
              "id                                     \n",
              "illegal/session_0126772600-x0  0.282513\n",
              "illegal/session_0126772600-x1  0.056180\n",
              "illegal/session_0126772600-x2  0.006265\n",
              "illegal/session_0126772600-x3  0.033991\n",
              "illegal/session_0126772600-x4  0.126609\n",
              "...                                 ...\n",
              "legal/session_9932324920-y6    0.063231\n",
              "legal/session_9932324920-y7    0.562928\n",
              "legal/session_9932324920-y8    0.040318\n",
              "legal/session_9973193301-x0    0.908278\n",
              "legal/session_9973193301-y0    0.945931\n",
              "\n",
              "[3005 rows x 1 columns]"
            ]
          },
          "metadata": {
            "tags": []
          },
          "execution_count": 21
        }
      ]
    },
    {
      "cell_type": "code",
      "metadata": {
        "id": "76xT198odgZF"
      },
      "source": [
        "submission_df.to_csv('/content/drive/My Drive/Colab Notebooks/mouse_dynamics/user12/submission12.csv')"
      ],
      "execution_count": null,
      "outputs": []
    },
    {
      "cell_type": "code",
      "metadata": {
        "id": "NoOZKyGdJ0HN"
      },
      "source": [
        "df = pd.read_csv('/content/drive/My Drive/Colab Notebooks/mouse_dynamics/user12/submission12.csv')\n",
        "#df = df.drop(columns=['Unnamed: 0'])"
      ],
      "execution_count": null,
      "outputs": []
    },
    {
      "cell_type": "code",
      "metadata": {
        "id": "ihNVePiZhjVO"
      },
      "source": [
        "TP = df.loc[(df['id'].str[0:3] == 'ill') & (df['label']<0.5)].count().to_list()[0]\n",
        "FP = df.loc[(df['id'].str[0:3] == 'leg') & (df['label']<0.5)].count().to_list()[0]\n",
        "FN = df.loc[(df['id'].str[0:3] == 'ill') & (df['label']>0.5)].count().to_list()[0]\n",
        "TN = df.loc[(df['id'].str[0:3] == 'leg') & (df['label']>0.5)].count().to_list()[0]"
      ],
      "execution_count": null,
      "outputs": []
    },
    {
      "cell_type": "code",
      "metadata": {
        "id": "-cku9ihj7YPL",
        "colab": {
          "base_uri": "https://localhost:8080/",
          "height": 51
        },
        "outputId": "cb4cca5a-3e41-4ba3-b6c6-0d155639bc91"
      },
      "source": [
        "print(TP, FP, FN, TN)\n",
        "print(TP/(TP+FP), TP/(TP+FN))"
      ],
      "execution_count": null,
      "outputs": [
        {
          "output_type": "stream",
          "text": [
            "2178 470 129 228\n",
            "0.8225075528700906 0.9440832249674902\n"
          ],
          "name": "stdout"
        }
      ]
    },
    {
      "cell_type": "code",
      "metadata": {
        "id": "mHqruh6jK1nK",
        "colab": {
          "base_uri": "https://localhost:8080/",
          "height": 286
        },
        "outputId": "4454e521-952d-4091-c6f4-5697bd9c98ad"
      },
      "source": [
        "from sklearn.metrics import roc_curve, auc\n",
        "import numpy as np\n",
        "\n",
        "y = np.array(df['id'].str[0:3] == 'leg')\n",
        "x = np.array(df['label'])\n",
        "fpr, tpr, thresholds = roc_curve(y,x,pos_label=True)\n",
        "roc_auc = auc(fpr,tpr)\n",
        "print(roc_auc)\n",
        "plt.plot(fpr, tpr, 'b')\n",
        "plt.plot([0,1], [0,1], \"k--\")\n",
        "plt.xlim([0.0, 1.0])\n",
        "plt.ylim([0.0, 1.0])\n",
        "plt.grid()\n",
        "plt.show()"
      ],
      "execution_count": null,
      "outputs": [
        {
          "output_type": "stream",
          "text": [
            "0.809819497902857\n"
          ],
          "name": "stdout"
        },
        {
          "output_type": "display_data",
          "data": {
            "image/png": "[encoded data removed]",
            "text/plain": [
              "<Figure size 432x288 with 1 Axes>"
            ]
          },
          "metadata": {
            "tags": []
          }
        }
      ]
    },
    {
      "cell_type": "code",
      "metadata": {
        "id": "rUKxbxZuT91r"
      },
      "source": [
        "\n",
        "\n",
        "import joblib"
      ],
      "execution_count": null,
      "outputs": []
    },
    {
      "cell_type": "code",
      "metadata": {
        "id": "njoTEph2gXeE"
      },
      "source": [
        "filename = 'mouse_model_pickled.pkl'\n",
        "joblib.dump(model, filename)"
      ],
      "execution_count": null,
      "outputs": []
    },
    {
      "cell_type": "code",
      "metadata": {
        "id": "IBIHG6hET8yb"
      },
      "source": [
        ""
      ],
      "execution_count": null,
      "outputs": []
    },
    {
      "cell_type": "code",
      "metadata": {
        "colab": {
          "base_uri": "https://localhost:8080/",
          "height": 35
        },
        "id": "_5WCQGiJ3wew",
        "outputId": "8177e0c0-a5f8-457b-c23b-f2124557a3d1"
      },
      "source": [
        "pwd"
      ],
      "execution_count": null,
      "outputs": [
        {
          "output_type": "execute_result",
          "data": {
            "application/vnd.google.colaboratory.intrinsic+json": {
              "type": "string"
            },
            "text/plain": [
              "'/content/Mouse-Dynamics-Challenge/test_files'"
            ]
          },
          "metadata": {
            "tags": []
          },
          "execution_count": 12
        }
      ]
    },
    {
      "cell_type": "code",
      "metadata": {
        "colab": {
          "base_uri": "https://localhost:8080/"
        },
        "id": "N8Fen1uD3fOn",
        "outputId": "a9a4a23f-513e-47c6-d582-a37bd6ca7e08"
      },
      "source": [
        "!git clone https://github.com/balabit/Mouse-Dynamics-Challenge.git"
      ],
      "execution_count": null,
      "outputs": [
        {
          "output_type": "stream",
          "text": [
            "Cloning into 'Mouse-Dynamics-Challenge'...\n",
            "remote: Enumerating objects: 1711, done.\u001b[K\n",
            "remote: Total 1711 (delta 0), reused 0 (delta 0), pack-reused 1711\u001b[K\n",
            "Receiving objects: 100% (1711/1711), 42.60 MiB | 19.66 MiB/s, done.\n",
            "Resolving deltas: 100% (3/3), done.\n",
            "Checking out files: 100% (1678/1678), done.\n"
          ],
          "name": "stdout"
        }
      ]
    },
    {
      "cell_type": "code",
      "metadata": {
        "colab": {
          "base_uri": "https://localhost:8080/"
        },
        "id": "5GVAmLlA3_E9",
        "outputId": "9b68f98a-00d3-400c-ad2c-b670a76d473a"
      },
      "source": [
        "cd .."
      ],
      "execution_count": null,
      "outputs": [
        {
          "output_type": "stream",
          "text": [
            "/\n"
          ],
          "name": "stdout"
        }
      ]
    },
    {
      "cell_type": "code",
      "metadata": {
        "colab": {
          "base_uri": "https://localhost:8080/"
        },
        "id": "3Albwfrr1OEz",
        "outputId": "34d9ff34-d395-48b3-d3d8-e9f9aeb329c8"
      },
      "source": [
        "import pandas as pd\n",
        "import math\n",
        "import os\n",
        "\n",
        "os.chdir(\"../../../Mouse-Dynamics-Challenge/test_files/user15/\")\n",
        "listing = os.listdir('../../../Mouse-Dynamics-Challenge/test_files/user15/') \n",
        "\n",
        "#calculate distance between two points\n",
        "def distance(x1,y1,x2,y2):\n",
        "    return((pow(x2-x1,2)+pow(y2-y1,2))**(1.0/2))\n",
        "\n",
        "#returns cps, avg. click time & no. of clicks\n",
        "def clicks(df,data): \n",
        "    clicknum=0.01 #no. of clicks \n",
        "    avgclicktime=0; #average click time\n",
        "    clickpersec=0; #clicks per sec\n",
        "\n",
        "    for i in range(0, len(df)-1):\n",
        "        if(df.iloc[i]['state']=='Pressed'):\n",
        "            clicknum= clicknum+1\n",
        "            if (df.iloc[i+1]['state']=='Released'):\n",
        "                avgclicktime= avgclicktime+(df.iloc[i+1]['client timestamp'])-(df.iloc[i]['client timestamp'])\n",
        "    avgclicktime=avgclicktime/clicknum\n",
        "    clickpersec=clicknum/((df.iloc[len(df)-1]['client timestamp']-df.iloc[0]['client timestamp'])+0.01)\n",
        "    data.append(clickpersec)\n",
        "    data.append(avgclicktime)\n",
        "    data.append(clicknum)\n",
        "\n",
        "#calculate average speed of mouse\n",
        "def speed(df,data):\n",
        "    spsum=0 #average speed\n",
        "    for i in range(0, len(df)-2):\n",
        "        d=distance(df.iloc[i+1]['x'],df.iloc[i+1]['y'],df.iloc[i]['x'],df.iloc[i]['y'])\n",
        "        t=(df.iloc[i+1]['client timestamp'])-(df.iloc[i]['client timestamp'])\n",
        "        if (t!=0):\n",
        "            spsum=spsum+(d/(t+0.01))\n",
        "    spsum= spsum/((len(df)-2)+0.01)\n",
        "    data.append(spsum)\n",
        "\n",
        "#calculate avg. drag length, avg. drag speed, no. of drags & avg. drag time\n",
        "def drag(df,data):\n",
        "    draglen=0 #avg. drag length\n",
        "    dragspeed=0 #avg. drag speed\n",
        "    dragnum=0.01 #no. of drags\n",
        "    dragtime=0 #avg. drag time\n",
        "    for i in range(0,len(df)-2):\n",
        "        if(df.iloc[i]['state']=='Pressed'and df.iloc[i+1]['state']=='Drag'):\n",
        "            dis=0\n",
        "            dragnum=dragnum+1\n",
        "            it=df.iloc[i]['client timestamp']\n",
        "            ix=df.iloc[i]['x']\n",
        "            iy=df.iloc[i]['y']\n",
        "            while(df.iloc[i]['state']!='Released'):\n",
        "                fx=df.iloc[i+1]['x']\n",
        "                fy=df.iloc[i+1]['y']\n",
        "                dis=dis+distance(fx,fy,ix,iy)\n",
        "                ix=fx\n",
        "                iy=fy\n",
        "                i= i+1\n",
        "            ft=df.iloc[i]['client timestamp']\n",
        "            draglen=draglen+dis\n",
        "            dragtime=dragtime+(ft-it)\n",
        "            dragspeed=dragspeed+(dis/((ft-it)+0.01))\n",
        "    data.append(dragspeed/dragnum)\n",
        "    data.append(dragnum)\n",
        "    data.append(draglen/dragnum)\n",
        "    data.append(dragtime/dragnum)\n",
        "            \n",
        "ans=[]\n",
        "for i in range(len(listing)-100,len(listing)):\n",
        "    infile=listing[i]\n",
        "    print(infile)\n",
        "    df=pd.read_csv(infile)\n",
        "    data=[]\n",
        "    clicks(df,data)\n",
        "    speed(df,data)\n",
        "    drag(df,data)\n",
        "    ans.insert(i,data)\n",
        "dff = pd.DataFrame(ans,columns=['CPS','Avg click time','No.of clicks','Average mouse Speed','Avg drag speed','No. of drags','Avg drag length','Avg drag time'])\n",
        "print(dff)"
      ],
      "execution_count": null,
      "outputs": [
        {
          "output_type": "stream",
          "text": [
            "session_3789499828\n",
            "session_8740037149\n",
            "session_6358907924\n",
            "session_4896261465\n",
            "session_3067787643\n",
            "session_5527787820\n",
            "session_6896514118\n",
            "session_1745563342\n",
            "session_3707088535\n",
            "session_3014121416\n",
            "session_7035039573\n",
            "session_3879503861\n",
            "session_8666287398\n",
            "session_6642571880\n",
            "session_5625245190\n",
            "session_8315992939\n",
            "session_7644891163\n",
            "session_3074151283\n",
            "session_8553270286\n",
            "session_7817103073\n",
            "session_8048990636\n",
            "session_7394343234\n",
            "session_8850456125\n",
            "session_0157631147\n",
            "session_5269315187\n",
            "session_9295143657\n",
            "session_5013071788\n",
            "session_7800181258\n",
            "session_1876247964\n",
            "session_5061431542\n",
            "session_4687655362\n",
            "session_3051589624\n",
            "session_9485800222\n",
            "session_0326724732\n",
            "session_6493825861\n",
            "session_0510406466\n",
            "session_8691825471\n",
            "session_5023081923\n",
            "session_0166392811\n",
            "session_2289308020\n",
            "session_9812281532\n",
            "session_2236070997\n",
            "session_9322710701\n",
            "session_9921687223\n",
            "session_5496146582\n",
            "session_8901928958\n",
            "session_3182497712\n",
            "session_4659905162\n",
            "session_4163559399\n",
            "session_6568302079\n",
            "session_5958053029\n",
            "session_5312030236\n",
            "session_9767538073\n",
            "session_6204270623\n",
            "session_3005367162\n",
            "session_0719528275\n",
            "session_6928670101\n",
            "session_6564838742\n",
            "session_5700842190\n",
            "session_8957866546\n",
            "session_1475370335\n",
            "session_3414033414\n",
            "session_2730276507\n",
            "session_6072617684\n",
            "session_9027946995\n",
            "session_2613999059\n",
            "session_9200040112\n",
            "session_6012071835\n",
            "session_4290136840\n",
            "session_6709002971\n",
            "session_0797370695\n",
            "session_6705777193\n",
            "session_3102058551\n",
            "session_7331556356\n",
            "session_0797029759\n",
            "session_0806702507\n",
            "session_9146515724\n",
            "session_1149922141\n",
            "session_6464183153\n",
            "session_7779665504\n",
            "session_7989414599\n",
            "session_0466721856\n",
            "session_6493162292\n",
            "session_5594141097\n",
            "session_1567411744\n",
            "session_1555870229\n",
            "session_1286687379\n",
            "session_1391052664\n",
            "session_1731950849\n",
            "session_3077149461\n",
            "session_2931074825\n",
            "session_9729063367\n",
            "session_0871121909\n",
            "session_3699092726\n",
            "session_6275600731\n",
            "session_9007689859\n",
            "session_1052587810\n",
            "session_2953697423\n",
            "session_2745694408\n",
            "session_5937234123\n",
            "         CPS  Avg click time  ...  Avg drag length  Avg drag time\n",
            "0   0.329378        0.097818  ...        50.666704       1.069413\n",
            "1   0.040688        0.166178  ...         0.000000       0.000000\n",
            "2   0.377081        0.107902  ...         0.000000       0.000000\n",
            "3   0.278681        0.084066  ...        31.574745       0.177352\n",
            "4   0.344560        0.102149  ...         0.000000       0.000000\n",
            "..       ...             ...  ...              ...            ...\n",
            "95  0.086241        0.090471  ...       134.490236       1.202494\n",
            "96  0.490114        0.071711  ...         1.228024       0.069367\n",
            "97  0.119289        0.109475  ...         3.444528       0.202494\n",
            "98  0.018230        0.083784  ...       155.334315       1.443781\n",
            "99  0.585545        0.080719  ...        65.761485       0.405563\n",
            "\n",
            "[100 rows x 8 columns]\n"
          ],
          "name": "stdout"
        }
      ]
    },
    {
      "cell_type": "code",
      "metadata": {
        "colab": {
          "base_uri": "https://localhost:8080/",
          "height": 360
        },
        "id": "uYJbMG-S1OqM",
        "outputId": "fbdd5c67-82b2-4ab6-cfea-391ee4713db0"
      },
      "source": [
        "dff"
      ],
      "execution_count": null,
      "outputs": [
        {
          "output_type": "execute_result",
          "data": {
            "text/html": [
              "<div>\n",
              "<style scoped>\n",
              "    .dataframe tbody tr th:only-of-type {\n",
              "        vertical-align: middle;\n",
              "    }\n",
              "\n",
              "    .dataframe tbody tr th {\n",
              "        vertical-align: top;\n",
              "    }\n",
              "\n",
              "    .dataframe thead th {\n",
              "        text-align: right;\n",
              "    }\n",
              "</style>\n",
              "<table border=\"1\" class=\"dataframe\">\n",
              "  <thead>\n",
              "    <tr style=\"text-align: right;\">\n",
              "      <th></th>\n",
              "      <th>CPS</th>\n",
              "      <th>Avg click time</th>\n",
              "      <th>No.of clicks</th>\n",
              "      <th>Average mouse Speed</th>\n",
              "      <th>Avg drag speed</th>\n",
              "      <th>No. of drags</th>\n",
              "      <th>Avg drag length</th>\n",
              "      <th>Avg drag time</th>\n",
              "    </tr>\n",
              "  </thead>\n",
              "  <tbody>\n",
              "    <tr>\n",
              "      <th>0</th>\n",
              "      <td>0.044525</td>\n",
              "      <td>0.087399</td>\n",
              "      <td>108.01</td>\n",
              "      <td>515.531911</td>\n",
              "      <td>144.614805</td>\n",
              "      <td>14.01</td>\n",
              "      <td>52.319417</td>\n",
              "      <td>0.449893</td>\n",
              "    </tr>\n",
              "    <tr>\n",
              "      <th>1</th>\n",
              "      <td>0.165796</td>\n",
              "      <td>0.088125</td>\n",
              "      <td>17.01</td>\n",
              "      <td>189.464276</td>\n",
              "      <td>36.579858</td>\n",
              "      <td>2.01</td>\n",
              "      <td>90.336970</td>\n",
              "      <td>2.460199</td>\n",
              "    </tr>\n",
              "    <tr>\n",
              "      <th>2</th>\n",
              "      <td>0.326217</td>\n",
              "      <td>0.082596</td>\n",
              "      <td>121.01</td>\n",
              "      <td>251.208912</td>\n",
              "      <td>226.934957</td>\n",
              "      <td>7.01</td>\n",
              "      <td>183.625816</td>\n",
              "      <td>1.254779</td>\n",
              "    </tr>\n",
              "    <tr>\n",
              "      <th>3</th>\n",
              "      <td>0.247067</td>\n",
              "      <td>0.120829</td>\n",
              "      <td>95.01</td>\n",
              "      <td>281.001416</td>\n",
              "      <td>269.700932</td>\n",
              "      <td>5.01</td>\n",
              "      <td>142.081948</td>\n",
              "      <td>0.476048</td>\n",
              "    </tr>\n",
              "    <tr>\n",
              "      <th>4</th>\n",
              "      <td>0.086892</td>\n",
              "      <td>0.079836</td>\n",
              "      <td>78.01</td>\n",
              "      <td>334.036402</td>\n",
              "      <td>125.434103</td>\n",
              "      <td>18.01</td>\n",
              "      <td>166.178167</td>\n",
              "      <td>2.934703</td>\n",
              "    </tr>\n",
              "    <tr>\n",
              "      <th>5</th>\n",
              "      <td>0.086241</td>\n",
              "      <td>0.090471</td>\n",
              "      <td>49.01</td>\n",
              "      <td>428.146614</td>\n",
              "      <td>207.686233</td>\n",
              "      <td>4.01</td>\n",
              "      <td>134.490236</td>\n",
              "      <td>1.202494</td>\n",
              "    </tr>\n",
              "    <tr>\n",
              "      <th>6</th>\n",
              "      <td>0.490114</td>\n",
              "      <td>0.071711</td>\n",
              "      <td>127.01</td>\n",
              "      <td>171.777470</td>\n",
              "      <td>16.088761</td>\n",
              "      <td>9.01</td>\n",
              "      <td>1.228024</td>\n",
              "      <td>0.069367</td>\n",
              "    </tr>\n",
              "    <tr>\n",
              "      <th>7</th>\n",
              "      <td>0.119289</td>\n",
              "      <td>0.109475</td>\n",
              "      <td>44.01</td>\n",
              "      <td>108.580266</td>\n",
              "      <td>23.423736</td>\n",
              "      <td>4.01</td>\n",
              "      <td>3.444528</td>\n",
              "      <td>0.202494</td>\n",
              "    </tr>\n",
              "    <tr>\n",
              "      <th>8</th>\n",
              "      <td>0.018230</td>\n",
              "      <td>0.083784</td>\n",
              "      <td>27.01</td>\n",
              "      <td>153.921028</td>\n",
              "      <td>120.743372</td>\n",
              "      <td>2.01</td>\n",
              "      <td>155.334315</td>\n",
              "      <td>1.443781</td>\n",
              "    </tr>\n",
              "    <tr>\n",
              "      <th>9</th>\n",
              "      <td>0.585545</td>\n",
              "      <td>0.080719</td>\n",
              "      <td>195.01</td>\n",
              "      <td>352.240485</td>\n",
              "      <td>115.075115</td>\n",
              "      <td>23.01</td>\n",
              "      <td>65.761485</td>\n",
              "      <td>0.405563</td>\n",
              "    </tr>\n",
              "  </tbody>\n",
              "</table>\n",
              "</div>"
            ],
            "text/plain": [
              "        CPS  Avg click time  ...  Avg drag length  Avg drag time\n",
              "0  0.044525        0.087399  ...        52.319417       0.449893\n",
              "1  0.165796        0.088125  ...        90.336970       2.460199\n",
              "2  0.326217        0.082596  ...       183.625816       1.254779\n",
              "3  0.247067        0.120829  ...       142.081948       0.476048\n",
              "4  0.086892        0.079836  ...       166.178167       2.934703\n",
              "5  0.086241        0.090471  ...       134.490236       1.202494\n",
              "6  0.490114        0.071711  ...         1.228024       0.069367\n",
              "7  0.119289        0.109475  ...         3.444528       0.202494\n",
              "8  0.018230        0.083784  ...       155.334315       1.443781\n",
              "9  0.585545        0.080719  ...        65.761485       0.405563\n",
              "\n",
              "[10 rows x 8 columns]"
            ]
          },
          "metadata": {
            "tags": []
          },
          "execution_count": 66
        }
      ]
    },
    {
      "cell_type": "code",
      "metadata": {
        "colab": {
          "base_uri": "https://localhost:8080/",
          "height": 129
        },
        "id": "aBEPzUH549Rv",
        "outputId": "0662cb4d-d0cd-42d3-8696-f80ef1e92296"
      },
      "source": [
        "df=#SOME JSON DATA"
      ],
      "execution_count": null,
      "outputs": [
        {
          "output_type": "error",
          "ename": "SyntaxError",
          "evalue": "ignored",
          "traceback": [
            "\u001b[0;36m  File \u001b[0;32m\"<ipython-input-67-ce3fd1f31ea1>\"\u001b[0;36m, line \u001b[0;32m1\u001b[0m\n\u001b[0;31m    df=#SOME JSON DATA\u001b[0m\n\u001b[0m                      ^\u001b[0m\n\u001b[0;31mSyntaxError\u001b[0m\u001b[0;31m:\u001b[0m invalid syntax\n"
          ]
        }
      ]
    },
    {
      "cell_type": "code",
      "metadata": {
        "colab": {
          "base_uri": "https://localhost:8080/"
        },
        "id": "VLQ-uaXD7MSo",
        "outputId": "31e6edd1-5688-4577-c9a5-8dd26a9f79c7"
      },
      "source": [
        "#infile=listing[i]\n",
        "    #print(infile)\n",
        "ans1= []\n",
        "test_data=pd.read_csv('test2')\n",
        "data1=[]\n",
        "clicks(test_data,data1)\n",
        "speed(test_data,data1)\n",
        "drag(test_data,data1)\n",
        "ans1.insert(0,data1)\n",
        "dff1 = pd.DataFrame(ans1,columns=['CPS','Avg click time','No.of clicks','Average mouse Speed','Avg drag speed','No. of drags','Avg drag length','Avg drag time'])\n",
        "print(dff1)"
      ],
      "execution_count": null,
      "outputs": [
        {
          "output_type": "stream",
          "text": [
            "        CPS  Avg click time  ...  Avg drag length  Avg drag time\n",
            "0  0.186914        0.150535  ...          1.99005       0.139801\n",
            "\n",
            "[1 rows x 8 columns]\n"
          ],
          "name": "stdout"
        }
      ]
    },
    {
      "cell_type": "code",
      "metadata": {
        "colab": {
          "base_uri": "https://localhost:8080/",
          "height": 94
        },
        "id": "GczhyEQN7eiH",
        "outputId": "5d81be82-1894-48cf-c402-fed46ac26d2a"
      },
      "source": [
        "dff1"
      ],
      "execution_count": null,
      "outputs": [
        {
          "output_type": "execute_result",
          "data": {
            "text/html": [
              "<div>\n",
              "<style scoped>\n",
              "    .dataframe tbody tr th:only-of-type {\n",
              "        vertical-align: middle;\n",
              "    }\n",
              "\n",
              "    .dataframe tbody tr th {\n",
              "        vertical-align: top;\n",
              "    }\n",
              "\n",
              "    .dataframe thead th {\n",
              "        text-align: right;\n",
              "    }\n",
              "</style>\n",
              "<table border=\"1\" class=\"dataframe\">\n",
              "  <thead>\n",
              "    <tr style=\"text-align: right;\">\n",
              "      <th></th>\n",
              "      <th>CPS</th>\n",
              "      <th>Avg click time</th>\n",
              "      <th>No.of clicks</th>\n",
              "      <th>Average mouse Speed</th>\n",
              "      <th>Avg drag speed</th>\n",
              "      <th>No. of drags</th>\n",
              "      <th>Avg drag length</th>\n",
              "      <th>Avg drag time</th>\n",
              "    </tr>\n",
              "  </thead>\n",
              "  <tbody>\n",
              "    <tr>\n",
              "      <th>0</th>\n",
              "      <td>0.186914</td>\n",
              "      <td>0.150535</td>\n",
              "      <td>57.01</td>\n",
              "      <td>203.788616</td>\n",
              "      <td>15.275915</td>\n",
              "      <td>2.01</td>\n",
              "      <td>1.99005</td>\n",
              "      <td>0.139801</td>\n",
              "    </tr>\n",
              "  </tbody>\n",
              "</table>\n",
              "</div>"
            ],
            "text/plain": [
              "        CPS  Avg click time  ...  Avg drag length  Avg drag time\n",
              "0  0.186914        0.150535  ...          1.99005       0.139801\n",
              "\n",
              "[1 rows x 8 columns]"
            ]
          },
          "metadata": {
            "tags": []
          },
          "execution_count": 77
        }
      ]
    },
    {
      "cell_type": "code",
      "metadata": {
        "id": "E00tWwpP79Q6"
      },
      "source": [
        "t1= dff.describe()\n",
        "t2=dff1.describe()"
      ],
      "execution_count": null,
      "outputs": []
    },
    {
      "cell_type": "code",
      "metadata": {
        "colab": {
          "base_uri": "https://localhost:8080/",
          "height": 301
        },
        "id": "iIEDN2918Aju",
        "outputId": "82a78a14-ad9f-455c-c9c8-51c05a88bcd8"
      },
      "source": [
        "t1\n"
      ],
      "execution_count": null,
      "outputs": [
        {
          "output_type": "execute_result",
          "data": {
            "text/html": [
              "<div>\n",
              "<style scoped>\n",
              "    .dataframe tbody tr th:only-of-type {\n",
              "        vertical-align: middle;\n",
              "    }\n",
              "\n",
              "    .dataframe tbody tr th {\n",
              "        vertical-align: top;\n",
              "    }\n",
              "\n",
              "    .dataframe thead th {\n",
              "        text-align: right;\n",
              "    }\n",
              "</style>\n",
              "<table border=\"1\" class=\"dataframe\">\n",
              "  <thead>\n",
              "    <tr style=\"text-align: right;\">\n",
              "      <th></th>\n",
              "      <th>CPS</th>\n",
              "      <th>Avg click time</th>\n",
              "      <th>No.of clicks</th>\n",
              "      <th>Average mouse Speed</th>\n",
              "      <th>Avg drag speed</th>\n",
              "      <th>No. of drags</th>\n",
              "      <th>Avg drag length</th>\n",
              "      <th>Avg drag time</th>\n",
              "    </tr>\n",
              "  </thead>\n",
              "  <tbody>\n",
              "    <tr>\n",
              "      <th>count</th>\n",
              "      <td>10.000000</td>\n",
              "      <td>10.000000</td>\n",
              "      <td>10.000000</td>\n",
              "      <td>10.000000</td>\n",
              "      <td>10.000000</td>\n",
              "      <td>10.000000</td>\n",
              "      <td>10.000000</td>\n",
              "      <td>10.000000</td>\n",
              "    </tr>\n",
              "    <tr>\n",
              "      <th>mean</th>\n",
              "      <td>0.216992</td>\n",
              "      <td>0.089495</td>\n",
              "      <td>86.110000</td>\n",
              "      <td>278.590878</td>\n",
              "      <td>128.628187</td>\n",
              "      <td>8.810000</td>\n",
              "      <td>99.480091</td>\n",
              "      <td>1.089932</td>\n",
              "    </tr>\n",
              "    <tr>\n",
              "      <th>std</th>\n",
              "      <td>0.193994</td>\n",
              "      <td>0.014739</td>\n",
              "      <td>54.559753</td>\n",
              "      <td>129.769394</td>\n",
              "      <td>87.263037</td>\n",
              "      <td>7.223419</td>\n",
              "      <td>66.675356</td>\n",
              "      <td>0.973529</td>\n",
              "    </tr>\n",
              "    <tr>\n",
              "      <th>min</th>\n",
              "      <td>0.018230</td>\n",
              "      <td>0.071711</td>\n",
              "      <td>17.010000</td>\n",
              "      <td>108.580266</td>\n",
              "      <td>16.088761</td>\n",
              "      <td>2.010000</td>\n",
              "      <td>1.228024</td>\n",
              "      <td>0.069367</td>\n",
              "    </tr>\n",
              "    <tr>\n",
              "      <th>25%</th>\n",
              "      <td>0.086404</td>\n",
              "      <td>0.081188</td>\n",
              "      <td>45.260000</td>\n",
              "      <td>176.199172</td>\n",
              "      <td>56.203673</td>\n",
              "      <td>4.010000</td>\n",
              "      <td>55.679934</td>\n",
              "      <td>0.416645</td>\n",
              "    </tr>\n",
              "    <tr>\n",
              "      <th>50%</th>\n",
              "      <td>0.142542</td>\n",
              "      <td>0.085592</td>\n",
              "      <td>86.510000</td>\n",
              "      <td>266.105164</td>\n",
              "      <td>123.088738</td>\n",
              "      <td>6.010000</td>\n",
              "      <td>112.413603</td>\n",
              "      <td>0.839271</td>\n",
              "    </tr>\n",
              "    <tr>\n",
              "      <th>75%</th>\n",
              "      <td>0.306430</td>\n",
              "      <td>0.089885</td>\n",
              "      <td>117.760000</td>\n",
              "      <td>347.689464</td>\n",
              "      <td>191.918376</td>\n",
              "      <td>12.760000</td>\n",
              "      <td>152.021223</td>\n",
              "      <td>1.396531</td>\n",
              "    </tr>\n",
              "    <tr>\n",
              "      <th>max</th>\n",
              "      <td>0.585545</td>\n",
              "      <td>0.120829</td>\n",
              "      <td>195.010000</td>\n",
              "      <td>515.531911</td>\n",
              "      <td>269.700932</td>\n",
              "      <td>23.010000</td>\n",
              "      <td>183.625816</td>\n",
              "      <td>2.934703</td>\n",
              "    </tr>\n",
              "  </tbody>\n",
              "</table>\n",
              "</div>"
            ],
            "text/plain": [
              "             CPS  Avg click time  ...  Avg drag length  Avg drag time\n",
              "count  10.000000       10.000000  ...        10.000000      10.000000\n",
              "mean    0.216992        0.089495  ...        99.480091       1.089932\n",
              "std     0.193994        0.014739  ...        66.675356       0.973529\n",
              "min     0.018230        0.071711  ...         1.228024       0.069367\n",
              "25%     0.086404        0.081188  ...        55.679934       0.416645\n",
              "50%     0.142542        0.085592  ...       112.413603       0.839271\n",
              "75%     0.306430        0.089885  ...       152.021223       1.396531\n",
              "max     0.585545        0.120829  ...       183.625816       2.934703\n",
              "\n",
              "[8 rows x 8 columns]"
            ]
          },
          "metadata": {
            "tags": []
          },
          "execution_count": 79
        }
      ]
    },
    {
      "cell_type": "code",
      "metadata": {
        "colab": {
          "base_uri": "https://localhost:8080/",
          "height": 301
        },
        "id": "Sl28j6Jt8DdO",
        "outputId": "4b94cf10-4bf7-4ec6-a10c-e9ccec94572d"
      },
      "source": [
        "t2"
      ],
      "execution_count": null,
      "outputs": [
        {
          "output_type": "execute_result",
          "data": {
            "text/html": [
              "<div>\n",
              "<style scoped>\n",
              "    .dataframe tbody tr th:only-of-type {\n",
              "        vertical-align: middle;\n",
              "    }\n",
              "\n",
              "    .dataframe tbody tr th {\n",
              "        vertical-align: top;\n",
              "    }\n",
              "\n",
              "    .dataframe thead th {\n",
              "        text-align: right;\n",
              "    }\n",
              "</style>\n",
              "<table border=\"1\" class=\"dataframe\">\n",
              "  <thead>\n",
              "    <tr style=\"text-align: right;\">\n",
              "      <th></th>\n",
              "      <th>CPS</th>\n",
              "      <th>Avg click time</th>\n",
              "      <th>No.of clicks</th>\n",
              "      <th>Average mouse Speed</th>\n",
              "      <th>Avg drag speed</th>\n",
              "      <th>No. of drags</th>\n",
              "      <th>Avg drag length</th>\n",
              "      <th>Avg drag time</th>\n",
              "    </tr>\n",
              "  </thead>\n",
              "  <tbody>\n",
              "    <tr>\n",
              "      <th>count</th>\n",
              "      <td>1.000000</td>\n",
              "      <td>1.000000</td>\n",
              "      <td>1.00</td>\n",
              "      <td>1.000000</td>\n",
              "      <td>1.000000</td>\n",
              "      <td>1.00</td>\n",
              "      <td>1.00000</td>\n",
              "      <td>1.000000</td>\n",
              "    </tr>\n",
              "    <tr>\n",
              "      <th>mean</th>\n",
              "      <td>0.186914</td>\n",
              "      <td>0.150535</td>\n",
              "      <td>57.01</td>\n",
              "      <td>203.788616</td>\n",
              "      <td>15.275915</td>\n",
              "      <td>2.01</td>\n",
              "      <td>1.99005</td>\n",
              "      <td>0.139801</td>\n",
              "    </tr>\n",
              "    <tr>\n",
              "      <th>std</th>\n",
              "      <td>NaN</td>\n",
              "      <td>NaN</td>\n",
              "      <td>NaN</td>\n",
              "      <td>NaN</td>\n",
              "      <td>NaN</td>\n",
              "      <td>NaN</td>\n",
              "      <td>NaN</td>\n",
              "      <td>NaN</td>\n",
              "    </tr>\n",
              "    <tr>\n",
              "      <th>min</th>\n",
              "      <td>0.186914</td>\n",
              "      <td>0.150535</td>\n",
              "      <td>57.01</td>\n",
              "      <td>203.788616</td>\n",
              "      <td>15.275915</td>\n",
              "      <td>2.01</td>\n",
              "      <td>1.99005</td>\n",
              "      <td>0.139801</td>\n",
              "    </tr>\n",
              "    <tr>\n",
              "      <th>25%</th>\n",
              "      <td>0.186914</td>\n",
              "      <td>0.150535</td>\n",
              "      <td>57.01</td>\n",
              "      <td>203.788616</td>\n",
              "      <td>15.275915</td>\n",
              "      <td>2.01</td>\n",
              "      <td>1.99005</td>\n",
              "      <td>0.139801</td>\n",
              "    </tr>\n",
              "    <tr>\n",
              "      <th>50%</th>\n",
              "      <td>0.186914</td>\n",
              "      <td>0.150535</td>\n",
              "      <td>57.01</td>\n",
              "      <td>203.788616</td>\n",
              "      <td>15.275915</td>\n",
              "      <td>2.01</td>\n",
              "      <td>1.99005</td>\n",
              "      <td>0.139801</td>\n",
              "    </tr>\n",
              "    <tr>\n",
              "      <th>75%</th>\n",
              "      <td>0.186914</td>\n",
              "      <td>0.150535</td>\n",
              "      <td>57.01</td>\n",
              "      <td>203.788616</td>\n",
              "      <td>15.275915</td>\n",
              "      <td>2.01</td>\n",
              "      <td>1.99005</td>\n",
              "      <td>0.139801</td>\n",
              "    </tr>\n",
              "    <tr>\n",
              "      <th>max</th>\n",
              "      <td>0.186914</td>\n",
              "      <td>0.150535</td>\n",
              "      <td>57.01</td>\n",
              "      <td>203.788616</td>\n",
              "      <td>15.275915</td>\n",
              "      <td>2.01</td>\n",
              "      <td>1.99005</td>\n",
              "      <td>0.139801</td>\n",
              "    </tr>\n",
              "  </tbody>\n",
              "</table>\n",
              "</div>"
            ],
            "text/plain": [
              "            CPS  Avg click time  ...  Avg drag length  Avg drag time\n",
              "count  1.000000        1.000000  ...          1.00000       1.000000\n",
              "mean   0.186914        0.150535  ...          1.99005       0.139801\n",
              "std         NaN             NaN  ...              NaN            NaN\n",
              "min    0.186914        0.150535  ...          1.99005       0.139801\n",
              "25%    0.186914        0.150535  ...          1.99005       0.139801\n",
              "50%    0.186914        0.150535  ...          1.99005       0.139801\n",
              "75%    0.186914        0.150535  ...          1.99005       0.139801\n",
              "max    0.186914        0.150535  ...          1.99005       0.139801\n",
              "\n",
              "[8 rows x 8 columns]"
            ]
          },
          "metadata": {
            "tags": []
          },
          "execution_count": 80
        }
      ]
    },
    {
      "cell_type": "code",
      "metadata": {
        "id": "KMZH89Fe8eGa"
      },
      "source": [
        "#Similarity Score \n",
        "\n",
        "ss= 0\n",
        "\n"
      ],
      "execution_count": null,
      "outputs": []
    },
    {
      "cell_type": "code",
      "metadata": {
        "colab": {
          "base_uri": "https://localhost:8080/"
        },
        "id": "91ZVg12Q8hG5",
        "outputId": "e883bd31-4118-45aa-f8e4-caeb2e4826aa"
      },
      "source": [
        "type(t1)"
      ],
      "execution_count": null,
      "outputs": [
        {
          "output_type": "execute_result",
          "data": {
            "text/plain": [
              "pandas.core.frame.DataFrame"
            ]
          },
          "metadata": {
            "tags": []
          },
          "execution_count": 61
        }
      ]
    },
    {
      "cell_type": "code",
      "metadata": {
        "id": "uWcUFJro8LS7"
      },
      "source": [
        "for i in range(1,len(t1['CPS'])):\n",
        "    for j in range (0,len(t1['CPS'])):\n",
        "        if(i!=2 and i!=0):\n",
        "            ss+=abs(t1.iloc[i,j]-t2.iloc[i,j])"
      ],
      "execution_count": null,
      "outputs": []
    },
    {
      "cell_type": "code",
      "metadata": {
        "colab": {
          "base_uri": "https://localhost:8080/"
        },
        "id": "K9yiOfW08aSA",
        "outputId": "2be3ae33-849a-4a2b-f1a6-54265c94f053"
      },
      "source": [
        "ss. #user 12 matched with user 12"
      ],
      "execution_count": null,
      "outputs": [
        {
          "output_type": "execute_result",
          "data": {
            "text/plain": [
              "1799.0914842262475"
            ]
          },
          "metadata": {
            "tags": []
          },
          "execution_count": 64
        }
      ]
    },
    {
      "cell_type": "code",
      "metadata": {
        "colab": {
          "base_uri": "https://localhost:8080/"
        },
        "id": "-L3TxOuH-9Dr",
        "outputId": "7ba61652-9ebf-450b-ed8a-a5e288e529c4"
      },
      "source": [
        "ss #user 12 with 15"
      ],
      "execution_count": null,
      "outputs": [
        {
          "output_type": "execute_result",
          "data": {
            "text/plain": [
              "1800.332245133188"
            ]
          },
          "metadata": {
            "tags": []
          },
          "execution_count": 75
        }
      ]
    },
    {
      "cell_type": "code",
      "metadata": {
        "colab": {
          "base_uri": "https://localhost:8080/"
        },
        "id": "AR6vELhf_i5i",
        "outputId": "5dc4a7c6-2c61-4d06-ba54-ed7fe0c900cc"
      },
      "source": [
        "ss #user 15 with 15"
      ],
      "execution_count": null,
      "outputs": [
        {
          "output_type": "execute_result",
          "data": {
            "text/plain": [
              "2436.4911771767206"
            ]
          },
          "metadata": {
            "tags": []
          },
          "execution_count": 83
        }
      ]
    },
    {
      "cell_type": "code",
      "metadata": {
        "colab": {
          "base_uri": "https://localhost:8080/"
        },
        "id": "hnOCp6Ij_xfN",
        "outputId": "869d6835-5ed8-49a1-95f2-cb3396a93110"
      },
      "source": [
        "ss #user 15 with 15 but train 100"
      ],
      "execution_count": null,
      "outputs": [
        {
          "output_type": "execute_result",
          "data": {
            "text/plain": [
              "2364.4911771767206"
            ]
          },
          "metadata": {
            "tags": []
          },
          "execution_count": 99
        }
      ]
    },
    {
      "cell_type": "code",
      "metadata": {
        "id": "p2IO6uqjAkI0"
      },
      "source": [
        ""
      ],
      "execution_count": null,
      "outputs": []
    }
  ]
}